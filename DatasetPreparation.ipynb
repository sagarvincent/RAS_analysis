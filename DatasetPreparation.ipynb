{
 "cells": [
  {
   "cell_type": "markdown",
   "metadata": {},
   "source": [
    "# Import libraries and dataset"
   ]
  },
  {
   "cell_type": "code",
   "execution_count": 1,
   "metadata": {},
   "outputs": [
    {
     "name": "stdout",
     "output_type": "stream",
     "text": [
      "Finished processing and sheets returned.\n"
     ]
    }
   ],
   "source": [
    "import pandas as pd\n",
    "import numpy as np\n",
    "import join\n",
    "import sklearn\n",
    "\n",
    "# specify the path to file\n",
    "joiner = join.joiner(\"D:\\Projects\\Data Analysis\\Robot Assisted surgery EDA\\RCS_X_Xi_metrics_report_with_LoS.xlsx\")\n",
    "sheets = joiner.get_sheets()\n",
    "metrics = sheets['X_Xi_metrics_report']\n",
    "los_data = sheets['X_Xi_counts']\n",
    "# - rename the session identifier col so tha tboth data set have the same col name.\n",
    "metrics.rename(columns={'session_name': 'Session ID(s)'}, inplace=True)\n",
    "\n"
   ]
  },
  {
   "cell_type": "markdown",
   "metadata": {},
   "source": [
    "# Build the dataset"
   ]
  },
  {
   "cell_type": "code",
   "execution_count": 3,
   "metadata": {},
   "outputs": [],
   "source": [
    "# - data feature columns of interest\n",
    "feature_col = ['Session ID(s)','proc_type','proc_track_number','task_name','task_id','time_start','part_stop','time_stop','evtcnt_camera_control','evtcnt_head_out','energy_totalduration','eom_usm1','eom_usm2','eom_usm3','eom_usm4']\n",
    "metrics = metrics[feature_col]\n"
   ]
  },
  {
   "cell_type": "code",
   "execution_count": null,
   "metadata": {},
   "outputs": [],
   "source": [
    "# extract dataframes for hysterectomy and lobectomy using boolean indexing\n",
    "desired_values = ['value1', 'value2', 'value3']\n",
    "\n",
    "# Using boolean indexing to filter the DataFrame\n",
    "filtered_df = df[df['column_name'].isin(desired_values)]"
   ]
  }
 ],
 "metadata": {
  "kernelspec": {
   "display_name": "Python 3 (ipykernel)",
   "language": "python",
   "name": "python3"
  },
  "language_info": {
   "codemirror_mode": {
    "name": "ipython",
    "version": 3
   },
   "file_extension": ".py",
   "mimetype": "text/x-python",
   "name": "python",
   "nbconvert_exporter": "python",
   "pygments_lexer": "ipython3",
   "version": "3.11.9"
  }
 },
 "nbformat": 4,
 "nbformat_minor": 4
}
